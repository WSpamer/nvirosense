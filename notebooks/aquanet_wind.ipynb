{
 "cells": [
  {
   "cell_type": "markdown",
   "metadata": {},
   "source": [
    "# AquaNet Wind"
   ]
  },
  {
   "cell_type": "code",
   "execution_count": 1,
   "metadata": {},
   "outputs": [],
   "source": [
    "import os\n",
    "from matplotlib import pyplot as plt\n",
    "import pandas as pd\n",
    "\n",
    "from loguru import logger\n",
    "\n",
    "logger.enable(\"nviro_fetch\")"
   ]
  },
  {
   "cell_type": "markdown",
   "metadata": {},
   "source": [
    "## Setup"
   ]
  },
  {
   "cell_type": "code",
   "execution_count": 2,
   "metadata": {},
   "outputs": [],
   "source": [
    "from devices import check_and_load_devices\n",
    "from env import env_global\n",
    "from readings import (\n",
    "    export_readings,\n",
    "    import_readings,\n",
    "    calculate_time_difference,\n",
    ")\n",
    "\n",
    "start_date = env_global(\"start_date\")\n",
    "end_date = env_global(\"end_date\")\n",
    "path_data = env_global(\"path_data\")\n",
    "path_readings = f\"{path_data}/readings\"\n",
    "devices = check_and_load_devices()"
   ]
  },
  {
   "cell_type": "markdown",
   "metadata": {},
   "source": [
    "## 1) Import"
   ]
  },
  {
   "cell_type": "code",
   "execution_count": 3,
   "metadata": {},
   "outputs": [
    {
     "name": "stderr",
     "output_type": "stream",
     "text": [
      "\u001b[32m2025-06-17 13:38:34.077\u001b[0m | \u001b[1mINFO    \u001b[0m | \u001b[36mreadings\u001b[0m:\u001b[36mimport_readings\u001b[0m:\u001b[36m70\u001b[0m - \u001b[1mImporting readings from folder: /Users/wspamer/Dev/python/projects/ccr-system/nvirosense/data/readings/raw\u001b[0m\n",
      "\u001b[32m2025-06-17 13:38:34.078\u001b[0m | \u001b[1mINFO    \u001b[0m | \u001b[36mfiles\u001b[0m:\u001b[36mfind_file\u001b[0m:\u001b[36m84\u001b[0m - \u001b[1mFound file: aquanet_wind_2025-06-11.csv for device: aquanet_wind\u001b[0m\n",
      "\u001b[32m2025-06-17 13:38:34.078\u001b[0m | \u001b[1mINFO    \u001b[0m | \u001b[36mreadings\u001b[0m:\u001b[36mimport_readings\u001b[0m:\u001b[36m74\u001b[0m - \u001b[1mImporting readings from file: aquanet_wind_2025-06-11.csv\u001b[0m\n",
      "\u001b[32m2025-06-17 13:38:34.090\u001b[0m | \u001b[1mINFO    \u001b[0m | \u001b[36mreadings\u001b[0m:\u001b[36mimport_readings\u001b[0m:\u001b[36m84\u001b[0m - \u001b[1mReadings imported successfully from /Users/wspamer/Dev/python/projects/ccr-system/nvirosense/data/readings/raw/aquanet_wind_2025-06-11.csv\u001b[0m\n"
     ]
    }
   ],
   "source": [
    "device_name = \"AquaNet Wind\"\n",
    "device = [device for device in devices if device[\"device_name\"] == device_name][0]\n",
    "df = import_readings(\n",
    "    device_name=device[\"device_name\"].replace(\" \", \"_\").lower()\n",
    ")"
   ]
  },
  {
   "cell_type": "markdown",
   "metadata": {},
   "source": [
    "## 2) Common Interval\n"
   ]
  },
  {
   "cell_type": "code",
   "execution_count": 4,
   "metadata": {},
   "outputs": [],
   "source": [
    "df[\"time_diff\"] = calculate_time_difference(df[\"dt\"])\n",
    "df = df[df[\"time_diff\"] >= 5]  # Filter out readings with time difference < 5 minutes"
   ]
  },
  {
   "cell_type": "code",
   "execution_count": 5,
   "metadata": {},
   "outputs": [
    {
     "data": {
      "application/vnd.microsoft.datawrangler.viewer.v0+json": {
       "columns": [
        {
         "name": "time_diff",
         "rawType": "int64",
         "type": "integer"
        },
        {
         "name": "count",
         "rawType": "int64",
         "type": "integer"
        }
       ],
       "ref": "2800cf5f-472b-4170-ba74-4d2be4a04ef8",
       "rows": [
        [
         "10",
         "1688"
        ],
        [
         "5",
         "1557"
        ],
        [
         "6",
         "24"
        ],
        [
         "20",
         "3"
        ],
        [
         "1199",
         "1"
        ]
       ],
       "shape": {
        "columns": 1,
        "rows": 5
       }
      },
      "text/plain": [
       "time_diff\n",
       "10      1688\n",
       "5       1557\n",
       "6         24\n",
       "20         3\n",
       "1199       1\n",
       "Name: count, dtype: int64"
      ]
     },
     "execution_count": 5,
     "metadata": {},
     "output_type": "execute_result"
    }
   ],
   "source": [
    "s_diff = df[\"time_diff\"].value_counts().sort_values(ascending=False)\n",
    "s_diff.head()"
   ]
  },
  {
   "cell_type": "markdown",
   "metadata": {},
   "source": [
    "### 2.1) Identify Interval Change\n"
   ]
  },
  {
   "cell_type": "code",
   "execution_count": 6,
   "metadata": {},
   "outputs": [],
   "source": [
    "date_change = df[df[\"time_diff\"] == 5][\"dt\"].max()"
   ]
  },
  {
   "cell_type": "code",
   "execution_count": 7,
   "metadata": {},
   "outputs": [
    {
     "data": {
      "text/plain": [
       "Timestamp('2025-05-24 05:53:00+0000', tz='UTC')"
      ]
     },
     "execution_count": 7,
     "metadata": {},
     "output_type": "execute_result"
    }
   ],
   "source": [
    "df[df[\"time_diff\"] == 10][\"dt\"].min()"
   ]
  },
  {
   "cell_type": "markdown",
   "metadata": {},
   "source": [
    "#### 2.2.1) Plot"
   ]
  },
  {
   "cell_type": "code",
   "execution_count": 8,
   "metadata": {},
   "outputs": [
    {
     "data": {
      "image/png": "[encoded data removed]",
      "text/plain": [
       "<Figure size 1200x400 with 1 Axes>"
      ]
     },
     "metadata": {},
     "output_type": "display_data"
    }
   ],
   "source": [
    "plt.figure(figsize=(12, 4))\n",
    "s_diff.plot(kind=\"bar\", alpha=0.7)\n",
    "plt.title(\"Time Difference Between Consecutive `dt` Values\")\n",
    "plt.xlabel(\"Time Difference (minutes)\")\n",
    "plt.ylabel(\"Frequency\")\n",
    "plt.grid(True)\n",
    "plt.show()"
   ]
  },
  {
   "cell_type": "markdown",
   "metadata": {},
   "source": [
    "ANS: 10 min"
   ]
  },
  {
   "cell_type": "markdown",
   "metadata": {},
   "source": [
    "## 3) Round to common interval"
   ]
  },
  {
   "cell_type": "markdown",
   "metadata": {},
   "source": [
    "### 3.1) Interval: 5\n"
   ]
  },
  {
   "cell_type": "code",
   "execution_count": 9,
   "metadata": {},
   "outputs": [
    {
     "data": {
      "application/vnd.microsoft.datawrangler.viewer.v0+json": {
       "columns": [
        {
         "name": "time_diff",
         "rawType": "int64",
         "type": "integer"
        },
        {
         "name": "count",
         "rawType": "int64",
         "type": "integer"
        }
       ],
       "ref": "e13d2c5a-536c-4ef9-a237-e29c6b9be0fb",
       "rows": [
        [
         "5",
         "1557"
        ],
        [
         "6",
         "24"
        ],
        [
         "10",
         "8"
        ],
        [
         "1199",
         "1"
        ],
        [
         "9",
         "1"
        ],
        [
         "740",
         "1"
        ]
       ],
       "shape": {
        "columns": 1,
        "rows": 6
       }
      },
      "text/plain": [
       "time_diff\n",
       "5       1557\n",
       "6         24\n",
       "10         8\n",
       "1199       1\n",
       "9          1\n",
       "740        1\n",
       "Name: count, dtype: int64"
      ]
     },
     "execution_count": 9,
     "metadata": {},
     "output_type": "execute_result"
    }
   ],
   "source": [
    "df1 = df[df[\"dt\"] <= date_change]\n",
    "\n",
    "s_diff = df1[\"time_diff\"].value_counts().sort_values(ascending=False)\n",
    "s_diff.head(len(s_diff))"
   ]
  },
  {
   "cell_type": "code",
   "execution_count": 10,
   "metadata": {},
   "outputs": [
    {
     "name": "stderr",
     "output_type": "stream",
     "text": [
      "/var/folders/lj/7mgr94p96j5bd4lp2lrw84_w0000gn/T/ipykernel_80835/1104927224.py:5: SettingWithCopyWarning: \n",
      "A value is trying to be set on a copy of a slice from a DataFrame.\n",
      "Try using .loc[row_indexer,col_indexer] = value instead\n",
      "\n",
      "See the caveats in the documentation: https://pandas.pydata.org/pandas-docs/stable/user_guide/indexing.html#returning-a-view-versus-a-copy\n",
      "  df1[\"dt\"] = df1[\"dt\"].dt.floor(freq)\n"
     ]
    }
   ],
   "source": [
    "# Snap all datetimes to the nearest lower 15-minute mark from the hour\n",
    "\n",
    "\n",
    "freq = \"5min\"\n",
    "df1[\"dt\"] = df1[\"dt\"].dt.floor(freq)\n",
    "# Remove duplicates that may result from flooring\n",
    "df1 = df1.drop_duplicates(subset=\"dt\", keep=\"first\")\n",
    "\n",
    "# Optionally, reindex to ensure every 10-minute interval is present\n",
    "full_range = pd.date_range(df1[\"dt\"].min(), df1[\"dt\"].max(), freq=freq)\n",
    "df1 = df1.set_index(\"dt\").reindex(full_range)\n",
    "df1[\"dt\"] = df1.index\n",
    "# Optionally, forward-fill or interpolate missing values\n",
    "# df1 = df1.ffill()"
   ]
  },
  {
   "cell_type": "code",
   "execution_count": 11,
   "metadata": {},
   "outputs": [
    {
     "data": {
      "application/vnd.microsoft.datawrangler.viewer.v0+json": {
       "columns": [
        {
         "name": "dt_diff",
         "rawType": "int64",
         "type": "integer"
        },
        {
         "name": "count",
         "rawType": "int64",
         "type": "integer"
        }
       ],
       "ref": "0a5e5bfc-0a4d-4831-8de5-fefda3a6624d",
       "rows": [
        [
         "5",
         "2010"
        ]
       ],
       "shape": {
        "columns": 1,
        "rows": 1
       }
      },
      "text/plain": [
       "dt_diff\n",
       "5    2010\n",
       "Name: count, dtype: int64"
      ]
     },
     "execution_count": 11,
     "metadata": {},
     "output_type": "execute_result"
    }
   ],
   "source": [
    "df1[\"dt_diff\"] = calculate_time_difference(df1[\"dt\"])\n",
    "s_diff = df1[\"dt_diff\"].value_counts().sort_values(ascending=False)\n",
    "s_diff.head(len(s_diff))"
   ]
  },
  {
   "cell_type": "markdown",
   "metadata": {},
   "source": [
    "### 3.2) Interval: 10"
   ]
  },
  {
   "cell_type": "code",
   "execution_count": 12,
   "metadata": {},
   "outputs": [
    {
     "data": {
      "application/vnd.microsoft.datawrangler.viewer.v0+json": {
       "columns": [
        {
         "name": "time_diff",
         "rawType": "int64",
         "type": "integer"
        },
        {
         "name": "count",
         "rawType": "int64",
         "type": "integer"
        }
       ],
       "ref": "3d8f9c08-04b7-4dc1-baa7-0bd42f7abb37",
       "rows": [
        [
         "10",
         "1680"
        ],
        [
         "20",
         "3"
        ],
        [
         "410",
         "1"
        ],
        [
         "7",
         "1"
        ],
        [
         "400",
         "1"
        ],
        [
         "390",
         "1"
        ]
       ],
       "shape": {
        "columns": 1,
        "rows": 6
       }
      },
      "text/plain": [
       "time_diff\n",
       "10     1680\n",
       "20        3\n",
       "410       1\n",
       "7         1\n",
       "400       1\n",
       "390       1\n",
       "Name: count, dtype: int64"
      ]
     },
     "execution_count": 12,
     "metadata": {},
     "output_type": "execute_result"
    }
   ],
   "source": [
    "df2 = df[df[\"dt\"] > date_change]\n",
    "s_diff = df2[\"time_diff\"].value_counts().sort_values(ascending=False)\n",
    "s_diff.head(len(s_diff))"
   ]
  },
  {
   "cell_type": "code",
   "execution_count": 13,
   "metadata": {},
   "outputs": [
    {
     "name": "stderr",
     "output_type": "stream",
     "text": [
      "/var/folders/lj/7mgr94p96j5bd4lp2lrw84_w0000gn/T/ipykernel_80835/612626256.py:2: SettingWithCopyWarning: \n",
      "A value is trying to be set on a copy of a slice from a DataFrame.\n",
      "Try using .loc[row_indexer,col_indexer] = value instead\n",
      "\n",
      "See the caveats in the documentation: https://pandas.pydata.org/pandas-docs/stable/user_guide/indexing.html#returning-a-view-versus-a-copy\n",
      "  df2[\"dt\"] = df2[\"dt\"].dt.floor(freq)\n"
     ]
    }
   ],
   "source": [
    "freq = \"10min\"\n",
    "df2[\"dt\"] = df2[\"dt\"].dt.floor(freq)\n",
    "# Remove duplicates that may result from flooring\n",
    "df2 = df2.drop_duplicates(subset=\"dt\", keep=\"first\")\n",
    "\n",
    "# Optionally, reindex to ensure every 10-minute interval is present\n",
    "full_range = pd.date_range(df2[\"dt\"].min(), df2[\"dt\"].max(), freq=freq)\n",
    "df2 = df2.set_index(\"dt\").reindex(full_range)\n",
    "df2[\"dt\"] = df2.index\n",
    "# Optionally, forward-fill or interpolate missing values\n",
    "# df2 = df2.ffill()"
   ]
  },
  {
   "cell_type": "code",
   "execution_count": 14,
   "metadata": {},
   "outputs": [
    {
     "data": {
      "application/vnd.microsoft.datawrangler.viewer.v0+json": {
       "columns": [
        {
         "name": "dt_diff",
         "rawType": "int64",
         "type": "integer"
        },
        {
         "name": "count",
         "rawType": "int64",
         "type": "integer"
        }
       ],
       "ref": "9146e57f-c684-420d-ab9f-f2c35e661b15",
       "rows": [
        [
         "10",
         "1807"
        ]
       ],
       "shape": {
        "columns": 1,
        "rows": 1
       }
      },
      "text/plain": [
       "dt_diff\n",
       "10    1807\n",
       "Name: count, dtype: int64"
      ]
     },
     "execution_count": 14,
     "metadata": {},
     "output_type": "execute_result"
    }
   ],
   "source": [
    "df2[\"dt_diff\"] = calculate_time_difference(df2[\"dt\"])\n",
    "s_diff = df2[\"dt_diff\"].value_counts().sort_values(ascending=False)\n",
    "s_diff.head(len(s_diff))"
   ]
  },
  {
   "cell_type": "markdown",
   "metadata": {},
   "source": [
    "### 3.3) Combine\n"
   ]
  },
  {
   "cell_type": "code",
   "execution_count": 15,
   "metadata": {},
   "outputs": [],
   "source": [
    "df_new = pd.concat([df1, df2])\n",
    "df_new = df_new.sort_values(by=\"dt\")"
   ]
  },
  {
   "cell_type": "code",
   "execution_count": 16,
   "metadata": {},
   "outputs": [],
   "source": [
    "df_new[\"time_diff\"] = calculate_time_difference(df_new[\"dt\"])"
   ]
  },
  {
   "cell_type": "code",
   "execution_count": 17,
   "metadata": {},
   "outputs": [
    {
     "data": {
      "image/png": "[encoded data removed]",
      "text/plain": [
       "<Figure size 1200x400 with 1 Axes>"
      ]
     },
     "metadata": {},
     "output_type": "display_data"
    }
   ],
   "source": [
    "plt.figure(figsize=(12, 4))\n",
    "plt.plot(df_new['WIND SPEED'], alpha=0.7)\n",
    "plt.title(\"Wind Speed Readings Over Time\")\n",
    "plt.xlabel(\"Datetime\")\n",
    "plt.ylabel(\"Wind Speed (m/s)\")\n",
    "plt.grid(True)\n",
    "plt.show()"
   ]
  },
  {
   "cell_type": "markdown",
   "metadata": {},
   "source": [
    "## 4) Check for any issues"
   ]
  },
  {
   "cell_type": "code",
   "execution_count": 18,
   "metadata": {},
   "outputs": [
    {
     "data": {
      "application/vnd.microsoft.datawrangler.viewer.v0+json": {
       "columns": [
        {
         "name": "dt_diff",
         "rawType": "int64",
         "type": "integer"
        },
        {
         "name": "count",
         "rawType": "int64",
         "type": "integer"
        }
       ],
       "ref": "1a3010a9-2a6a-4c06-a79c-530a6c57dc91",
       "rows": [
        [
         "5",
         "2010"
        ],
        [
         "10",
         "1807"
        ]
       ],
       "shape": {
        "columns": 1,
        "rows": 2
       }
      },
      "text/plain": [
       "dt_diff\n",
       "5     2010\n",
       "10    1807\n",
       "Name: count, dtype: int64"
      ]
     },
     "execution_count": 18,
     "metadata": {},
     "output_type": "execute_result"
    }
   ],
   "source": [
    "s_diff = df_new[\"dt_diff\"].value_counts().sort_values(ascending=False)\n",
    "s_diff.head()"
   ]
  },
  {
   "cell_type": "markdown",
   "metadata": {},
   "source": [
    "## 5) Set new date as default"
   ]
  },
  {
   "cell_type": "code",
   "execution_count": 19,
   "metadata": {},
   "outputs": [],
   "source": [
    "df_final = df_new.copy(deep=True)\n",
    "df_final.reset_index(inplace=True, drop=True)\n",
    "df_final[\"datetime\"] = df_final[\"dt\"]\n",
    "df_final.drop(columns=[\"dt\" ,\"time_diff\", \"dt_diff\"], inplace=True)"
   ]
  },
  {
   "cell_type": "markdown",
   "metadata": {},
   "source": [
    "## 6) Export"
   ]
  },
  {
   "cell_type": "code",
   "execution_count": 20,
   "metadata": {},
   "outputs": [],
   "source": [
    "path_cleaned = os.path.join(path_readings, \"cleaned\")\n",
    "end_date = df_final[\"datetime\"].max().strftime(\"%Y-%m-%d %H:%M:%S\")\n",
    "export_readings(path_cleaned, df_final, device, end_date)"
   ]
  },
  {
   "cell_type": "markdown",
   "metadata": {},
   "source": []
  }
 ],
 "metadata": {
  "kernelspec": {
   "display_name": "nvirosense",
   "language": "python",
   "name": "python3"
  },
  "language_info": {
   "codemirror_mode": {
    "name": "ipython",
    "version": 3
   },
   "file_extension": ".py",
   "mimetype": "text/x-python",
   "name": "python",
   "nbconvert_exporter": "python",
   "pygments_lexer": "ipython3",
   "version": "3.12.10"
  }
 },
 "nbformat": 4,
 "nbformat_minor": 4
}
