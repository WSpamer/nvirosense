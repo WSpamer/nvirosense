{
 "cells": [
  {
   "cell_type": "markdown",
   "metadata": {},
   "source": [
    "# Aquanet Light Sensor"
   ]
  },
  {
   "cell_type": "code",
   "execution_count": 106,
   "metadata": {},
   "outputs": [],
   "source": [
    "import os\n",
    "from matplotlib import pyplot as plt\n",
    "import pandas as pd\n",
    "\n",
    "from loguru import logger\n",
    "\n",
    "logger.enable(\"nviro_fetch\")"
   ]
  },
  {
   "cell_type": "code",
   "execution_count": 7,
   "metadata": {},
   "outputs": [
    {
     "data": {
      "text/plain": [
       "'/home/wspamer/dev/python/nvirosense/notebooks'"
      ]
     },
     "execution_count": 7,
     "metadata": {},
     "output_type": "execute_result"
    }
   ],
   "source": [
    "os.getcwd()"
   ]
  },
  {
   "cell_type": "markdown",
   "metadata": {},
   "source": [
    "## Setup"
   ]
  },
  {
   "cell_type": "code",
   "execution_count": 26,
   "metadata": {},
   "outputs": [],
   "source": [
    "from src.devices import check_and_load_devices\n",
    "from src.env import env_global\n",
    "from src.readings import (\n",
    "    export_readings,\n",
    "    import_readings,\n",
    "    calculate_time_difference,\n",
    ")\n",
    "\n",
    "start_date = env_global(\"start_date\")\n",
    "end_date = env_global(\"end_date\")\n",
    "path_data = env_global(\"path_data\")\n",
    "path_readings = f\"{path_data}/readings\"\n",
    "devices = check_and_load_devices()"
   ]
  },
  {
   "cell_type": "markdown",
   "metadata": {},
   "source": [
    "## 1) Import"
   ]
  },
  {
   "cell_type": "code",
   "execution_count": 133,
   "metadata": {},
   "outputs": [
    {
     "name": "stderr",
     "output_type": "stream",
     "text": [
      "\u001b[32m2025-06-13 17:28:54.650\u001b[0m | \u001b[1mINFO    \u001b[0m | \u001b[36msrc.files\u001b[0m:\u001b[36mfind_file\u001b[0m:\u001b[36m84\u001b[0m - \u001b[1mFound file: aquanet_light_sensor_2025-06-11.csv for device: aquanet_light_sensor\u001b[0m\n",
      "\u001b[32m2025-06-13 17:28:54.651\u001b[0m | \u001b[1mINFO    \u001b[0m | \u001b[36msrc.readings\u001b[0m:\u001b[36mimport_readings\u001b[0m:\u001b[36m64\u001b[0m - \u001b[1mImporting readings from file: aquanet_light_sensor_2025-06-11.csv\u001b[0m\n",
      "\u001b[32m2025-06-13 17:28:54.660\u001b[0m | \u001b[1mINFO    \u001b[0m | \u001b[36msrc.readings\u001b[0m:\u001b[36mimport_readings\u001b[0m:\u001b[36m74\u001b[0m - \u001b[1mReadings imported successfully from data/readings/raw/aquanet_light_sensor_2025-06-11.csv\u001b[0m\n"
     ]
    }
   ],
   "source": [
    "device_name = \"Aquanet Light Sensor\"\n",
    "device = [device for device in devices if device[\"device_name\"] == device_name][0]\n",
    "df = import_readings(\n",
    "    device_name=device[\"device_name\"].replace(\" \", \"_\").lower()\n",
    ")"
   ]
  },
  {
   "cell_type": "markdown",
   "metadata": {},
   "source": [
    "## 2) Common Interval\n"
   ]
  },
  {
   "cell_type": "code",
   "execution_count": 73,
   "metadata": {},
   "outputs": [],
   "source": [
    "def round_interval(dt, time_diff, interval=15):\n",
    "    if abs(time_diff - interval) < 3:\n",
    "        return dt.floor(f\"{str(interval)} min\")\n",
    "    else:\n",
    "        return dt"
   ]
  },
  {
   "cell_type": "code",
   "execution_count": null,
   "metadata": {},
   "outputs": [],
   "source": [
    "df[\"time_diff\"] = calculate_time_difference(df[\"dt\"])\n",
    "df = df[df[\"time_diff\"] >= 5]  # Filter out readings with time difference < 5 minutes\n",
    "# df = df[df[\"time_diff\"] >= 5]  # Filter out readings with time difference < 5 minutes"
   ]
  },
  {
   "cell_type": "code",
   "execution_count": 99,
   "metadata": {},
   "outputs": [
    {
     "data": {
      "application/vnd.microsoft.datawrangler.viewer.v0+json": {
       "columns": [
        {
         "name": "time_diff",
         "rawType": "int64",
         "type": "integer"
        },
        {
         "name": "count",
         "rawType": "int64",
         "type": "integer"
        }
       ],
       "ref": "eea59b18-eb78-47c7-a1bc-572308b60ccd",
       "rows": [
        [
         "10",
         "893"
        ],
        [
         "15",
         "856"
        ],
        [
         "20",
         "50"
        ],
        [
         "30",
         "48"
        ],
        [
         "14",
         "32"
        ],
        [
         "16",
         "27"
        ],
        [
         "390",
         "2"
        ],
        [
         "1200",
         "1"
        ],
        [
         "31",
         "1"
        ],
        [
         "750",
         "1"
        ],
        [
         "420",
         "1"
        ]
       ],
       "shape": {
        "columns": 1,
        "rows": 11
       }
      },
      "text/plain": [
       "time_diff\n",
       "10      893\n",
       "15      856\n",
       "20       50\n",
       "30       48\n",
       "14       32\n",
       "16       27\n",
       "390       2\n",
       "1200      1\n",
       "31        1\n",
       "750       1\n",
       "420       1\n",
       "Name: count, dtype: int64"
      ]
     },
     "execution_count": 99,
     "metadata": {},
     "output_type": "execute_result"
    }
   ],
   "source": [
    "s_diff = df[\"time_diff\"].value_counts().sort_values(ascending=False)\n",
    "s_diff.head(len(s_diff))"
   ]
  },
  {
   "cell_type": "code",
   "execution_count": null,
   "metadata": {},
   "outputs": [],
   "source": [
    "# df[\"dt\"] = df.apply(\n",
    "#     lambda x: round_interval(x[\"dt\"], x[\"time_diff\"]), axis=1\n",
    "# )"
   ]
  },
  {
   "cell_type": "markdown",
   "metadata": {},
   "source": [
    "### 2.1) Identify Interval Change\n"
   ]
  },
  {
   "cell_type": "code",
   "execution_count": 100,
   "metadata": {},
   "outputs": [],
   "source": [
    "date_change = df[df[\"time_diff\"] == 15]['dt'].max()"
   ]
  },
  {
   "cell_type": "code",
   "execution_count": 93,
   "metadata": {},
   "outputs": [
    {
     "data": {
      "text/plain": [
       "Timestamp('2025-06-03 13:37:00+0000', tz='UTC')"
      ]
     },
     "execution_count": 93,
     "metadata": {},
     "output_type": "execute_result"
    }
   ],
   "source": [
    "df[df[\"time_diff\"] == 10][\"dt\"].min()"
   ]
  },
  {
   "cell_type": "markdown",
   "metadata": {},
   "source": [
    "## 3) Round to common interval"
   ]
  },
  {
   "cell_type": "markdown",
   "metadata": {},
   "source": [
    "### 3.1) Interval: 15\n"
   ]
  },
  {
   "cell_type": "code",
   "execution_count": 144,
   "metadata": {},
   "outputs": [
    {
     "data": {
      "application/vnd.microsoft.datawrangler.viewer.v0+json": {
       "columns": [
        {
         "name": "time_diff",
         "rawType": "int64",
         "type": "integer"
        },
        {
         "name": "count",
         "rawType": "int64",
         "type": "integer"
        }
       ],
       "ref": "fa0f8585-44a0-4d9f-b6db-478c1c1d142f",
       "rows": [
        [
         "15",
         "856"
        ],
        [
         "30",
         "48"
        ],
        [
         "14",
         "32"
        ],
        [
         "16",
         "27"
        ],
        [
         "1200",
         "1"
        ],
        [
         "31",
         "1"
        ],
        [
         "750",
         "1"
        ],
        [
         "420",
         "1"
        ]
       ],
       "shape": {
        "columns": 1,
        "rows": 8
       }
      },
      "text/plain": [
       "time_diff\n",
       "15      856\n",
       "30       48\n",
       "14       32\n",
       "16       27\n",
       "1200      1\n",
       "31        1\n",
       "750       1\n",
       "420       1\n",
       "Name: count, dtype: int64"
      ]
     },
     "execution_count": 144,
     "metadata": {},
     "output_type": "execute_result"
    }
   ],
   "source": [
    "df1 = df[df[\"dt\"] <= date_change]\n",
    "\n",
    "s_diff = df1[\"time_diff\"].value_counts().sort_values(ascending=False)\n",
    "s_diff.head(len(s_diff))"
   ]
  },
  {
   "cell_type": "code",
   "execution_count": 145,
   "metadata": {},
   "outputs": [
    {
     "name": "stderr",
     "output_type": "stream",
     "text": [
      "/tmp/ipykernel_110804/3130095819.py:5: SettingWithCopyWarning: \n",
      "A value is trying to be set on a copy of a slice from a DataFrame.\n",
      "Try using .loc[row_indexer,col_indexer] = value instead\n",
      "\n",
      "See the caveats in the documentation: https://pandas.pydata.org/pandas-docs/stable/user_guide/indexing.html#returning-a-view-versus-a-copy\n",
      "  df1[\"dt\"] = df1[\"dt\"].dt.floor(freq)\n"
     ]
    }
   ],
   "source": [
    "# Snap all datetimes to the nearest lower 15-minute mark from the hour\n",
    "\n",
    "\n",
    "freq = \"15min\"\n",
    "df1[\"dt\"] = df1[\"dt\"].dt.floor(freq)\n",
    "# Remove duplicates that may result from flooring\n",
    "df1 = df1.drop_duplicates(subset=\"dt\", keep=\"first\")\n",
    "\n",
    "# Optionally, reindex to ensure every 10-minute interval is present\n",
    "full_range = pd.date_range(df1[\"dt\"].min(), df1[\"dt\"].max(), freq=freq)\n",
    "df1 = df1.set_index(\"dt\").reindex(full_range)\n",
    "df1[\"dt\"] = df1.index\n",
    "# Optionally, forward-fill or interpolate missing values\n",
    "# df1 = df1.ffill()"
   ]
  },
  {
   "cell_type": "code",
   "execution_count": 146,
   "metadata": {},
   "outputs": [
    {
     "data": {
      "application/vnd.microsoft.datawrangler.viewer.v0+json": {
       "columns": [
        {
         "name": "dt_diff",
         "rawType": "int64",
         "type": "integer"
        },
        {
         "name": "count",
         "rawType": "int64",
         "type": "integer"
        }
       ],
       "ref": "b81c263a-5e08-4989-ac56-afa4553f541a",
       "rows": [
        [
         "15",
         "1170"
        ]
       ],
       "shape": {
        "columns": 1,
        "rows": 1
       }
      },
      "text/plain": [
       "dt_diff\n",
       "15    1170\n",
       "Name: count, dtype: int64"
      ]
     },
     "execution_count": 146,
     "metadata": {},
     "output_type": "execute_result"
    }
   ],
   "source": [
    "df1[\"dt_diff\"] = calculate_time_difference(df1[\"dt\"])\n",
    "s_diff = df1[\"dt_diff\"].value_counts().sort_values(ascending=False)\n",
    "s_diff.head(len(s_diff))"
   ]
  },
  {
   "cell_type": "markdown",
   "metadata": {},
   "source": [
    "### 3.2) Interval: 10\n"
   ]
  },
  {
   "cell_type": "code",
   "execution_count": 147,
   "metadata": {},
   "outputs": [
    {
     "data": {
      "application/vnd.microsoft.datawrangler.viewer.v0+json": {
       "columns": [
        {
         "name": "time_diff",
         "rawType": "int64",
         "type": "integer"
        },
        {
         "name": "count",
         "rawType": "int64",
         "type": "integer"
        }
       ],
       "ref": "82620d74-682f-45d6-881b-10b09ec29c0d",
       "rows": [
        [
         "10",
         "893"
        ],
        [
         "20",
         "50"
        ],
        [
         "390",
         "2"
        ]
       ],
       "shape": {
        "columns": 1,
        "rows": 3
       }
      },
      "text/plain": [
       "time_diff\n",
       "10     893\n",
       "20      50\n",
       "390      2\n",
       "Name: count, dtype: int64"
      ]
     },
     "execution_count": 147,
     "metadata": {},
     "output_type": "execute_result"
    }
   ],
   "source": [
    "df2 = df[df[\"dt\"] > date_change]\n",
    "s_diff = df2[\"time_diff\"].value_counts().sort_values(ascending=False)\n",
    "s_diff.head(len(s_diff))"
   ]
  },
  {
   "cell_type": "code",
   "execution_count": 148,
   "metadata": {},
   "outputs": [
    {
     "name": "stderr",
     "output_type": "stream",
     "text": [
      "/tmp/ipykernel_110804/612626256.py:2: SettingWithCopyWarning: \n",
      "A value is trying to be set on a copy of a slice from a DataFrame.\n",
      "Try using .loc[row_indexer,col_indexer] = value instead\n",
      "\n",
      "See the caveats in the documentation: https://pandas.pydata.org/pandas-docs/stable/user_guide/indexing.html#returning-a-view-versus-a-copy\n",
      "  df2[\"dt\"] = df2[\"dt\"].dt.floor(freq)\n"
     ]
    }
   ],
   "source": [
    "freq = \"10min\"\n",
    "df2[\"dt\"] = df2[\"dt\"].dt.floor(freq)\n",
    "# Remove duplicates that may result from flooring\n",
    "df2 = df2.drop_duplicates(subset=\"dt\", keep=\"first\")\n",
    "\n",
    "# Optionally, reindex to ensure every 10-minute interval is present\n",
    "full_range = pd.date_range(df2[\"dt\"].min(), df2[\"dt\"].max(), freq=freq)\n",
    "df2 = df2.set_index(\"dt\").reindex(full_range)\n",
    "df2[\"dt\"] = df2.index\n",
    "# Optionally, forward-fill or interpolate missing values\n",
    "# df2 = df2.ffill()"
   ]
  },
  {
   "cell_type": "code",
   "execution_count": 150,
   "metadata": {},
   "outputs": [
    {
     "data": {
      "application/vnd.microsoft.datawrangler.viewer.v0+json": {
       "columns": [
        {
         "name": "dt_diff",
         "rawType": "int64",
         "type": "integer"
        },
        {
         "name": "count",
         "rawType": "int64",
         "type": "integer"
        }
       ],
       "ref": "6734559a-e2ae-47f7-9f36-9a0dc5cb8aa8",
       "rows": [
        [
         "10",
         "1072"
        ]
       ],
       "shape": {
        "columns": 1,
        "rows": 1
       }
      },
      "text/plain": [
       "dt_diff\n",
       "10    1072\n",
       "Name: count, dtype: int64"
      ]
     },
     "execution_count": 150,
     "metadata": {},
     "output_type": "execute_result"
    }
   ],
   "source": [
    "df2[\"dt_diff\"] = calculate_time_difference(df2[\"dt\"])\n",
    "s_diff = df2[\"dt_diff\"].value_counts().sort_values(ascending=False)\n",
    "s_diff.head(len(s_diff))"
   ]
  },
  {
   "cell_type": "markdown",
   "metadata": {},
   "source": [
    "### 3.3) Combine\n"
   ]
  },
  {
   "cell_type": "code",
   "execution_count": 151,
   "metadata": {},
   "outputs": [],
   "source": [
    "df_new = pd.concat([df1, df2])\n",
    "df_new = df_new.sort_values(by=\"dt\")"
   ]
  },
  {
   "cell_type": "code",
   "execution_count": 143,
   "metadata": {},
   "outputs": [],
   "source": [
    "df_new[\"time_diff\"] = calculate_time_difference(df_new[\"dt\"])"
   ]
  },
  {
   "cell_type": "code",
   "execution_count": 153,
   "metadata": {},
   "outputs": [
    {
     "data": {
      "image/png": "[encoded data removed]",
      "text/plain": [
       "<Figure size 1200x400 with 1 Axes>"
      ]
     },
     "metadata": {},
     "output_type": "display_data"
    }
   ],
   "source": [
    "plt.figure(figsize=(12, 4))\n",
    "plt.plot(df_new.LIGHT, alpha=0.7)\n",
    "plt.title(\"Light Sensor Readings Over Time\")\n",
    "plt.xlabel(\"Datetime\")\n",
    "plt.ylabel(\"Light Intensity\")\n",
    "plt.grid(True)\n",
    "plt.show()"
   ]
  },
  {
   "cell_type": "markdown",
   "metadata": {},
   "source": [
    "### 3.4) Exploration"
   ]
  },
  {
   "cell_type": "code",
   "execution_count": null,
   "metadata": {},
   "outputs": [],
   "source": [
    "explore_interval = 43 \n",
    "df[\"day\"] = df[\"dt\"].dt.date\n",
    "\n",
    "explore_day = df[df[\"time_diff2\"] == explore_interval][\"day\"].to_list()[0]"
   ]
  },
  {
   "cell_type": "code",
   "execution_count": 63,
   "metadata": {},
   "outputs": [],
   "source": [
    "df_view = df[df[\"day\"] == explore_day].copy()"
   ]
  },
  {
   "cell_type": "code",
   "execution_count": null,
   "metadata": {},
   "outputs": [],
   "source": [
    "df[\"dt_10\"] = df.apply(\n",
    "    lambda row: row[\"dt\"].floor(f\"{str(interval_common)} min\"), axis=1\n",
    ")\n",
    "\n",
    "df[\"dt_diff\"] = df.apply(\n",
    "    lambda row: (row[\"dt\"] - row[\"dt_10\"]).total_seconds() / 60, axis=1\n",
    ")"
   ]
  },
  {
   "cell_type": "markdown",
   "metadata": {},
   "source": [
    "## 4) Check for any issues"
   ]
  },
  {
   "cell_type": "code",
   "execution_count": 152,
   "metadata": {},
   "outputs": [
    {
     "data": {
      "application/vnd.microsoft.datawrangler.viewer.v0+json": {
       "columns": [
        {
         "name": "dt_diff",
         "rawType": "int64",
         "type": "integer"
        },
        {
         "name": "count",
         "rawType": "int64",
         "type": "integer"
        }
       ],
       "ref": "e536298b-22a5-46c1-a4f6-f37ccffb9813",
       "rows": [
        [
         "15",
         "1170"
        ],
        [
         "10",
         "1072"
        ]
       ],
       "shape": {
        "columns": 1,
        "rows": 2
       }
      },
      "text/plain": [
       "dt_diff\n",
       "15    1170\n",
       "10    1072\n",
       "Name: count, dtype: int64"
      ]
     },
     "execution_count": 152,
     "metadata": {},
     "output_type": "execute_result"
    }
   ],
   "source": [
    "s_diff = df_new[\"dt_diff\"].value_counts().sort_values(ascending=False)\n",
    "s_diff.head()"
   ]
  },
  {
   "cell_type": "markdown",
   "metadata": {},
   "source": [
    "## 5) Set new date as default"
   ]
  },
  {
   "cell_type": "code",
   "execution_count": null,
   "metadata": {},
   "outputs": [],
   "source": [
    "df_final = df.copy(deep=True)\n",
    "df_final.reset_index(inplace=True, drop=True)\n",
    "df_final[\"datetime\"] = df_final[\"dt_10\"]\n",
    "df_final.drop(columns=[\"dt\" ,\"time_diff\", \"dt_10\", \"dt_diff\"], inplace=True)"
   ]
  },
  {
   "cell_type": "markdown",
   "metadata": {},
   "source": [
    "## 6) Export"
   ]
  },
  {
   "cell_type": "code",
   "execution_count": null,
   "metadata": {},
   "outputs": [],
   "source": [
    "path_cleaned = os.path.join(path_readings, \"cleaned\")\n",
    "end_date = df_final[\"datetime\"].max().strftime(\"%Y-%m-%d %H:%M:%S\")\n",
    "export_readings(path_cleaned, df_final, device, end_date)"
   ]
  },
  {
   "cell_type": "markdown",
   "metadata": {},
   "source": []
  }
 ],
 "metadata": {
  "kernelspec": {
   "display_name": ".venv",
   "language": "python",
   "name": "python3"
  },
  "language_info": {
   "codemirror_mode": {
    "name": "ipython",
    "version": 3
   },
   "file_extension": ".py",
   "mimetype": "text/x-python",
   "name": "python",
   "nbconvert_exporter": "python",
   "pygments_lexer": "ipython3",
   "version": "3.12.3"
  }
 },
 "nbformat": 4,
 "nbformat_minor": 4
}
