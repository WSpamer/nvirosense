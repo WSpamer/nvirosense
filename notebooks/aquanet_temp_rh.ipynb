{
 "cells": [
  {
   "cell_type": "markdown",
   "metadata": {},
   "source": [
    "# AquaNet Temp & RH"
   ]
  },
  {
   "cell_type": "code",
   "execution_count": 1,
   "metadata": {},
   "outputs": [],
   "source": [
    "import os\n",
    "from matplotlib import pyplot as plt\n",
    "\n",
    "from loguru import logger\n",
    "\n",
    "logger.enable(\"nviro_fetch\")"
   ]
  },
  {
   "cell_type": "markdown",
   "metadata": {},
   "source": [
    "## Setup"
   ]
  },
  {
   "cell_type": "code",
   "execution_count": 3,
   "metadata": {},
   "outputs": [],
   "source": [
    "from devices import check_and_load_devices\n",
    "from env import env_global\n",
    "from readings import (\n",
    "    export_readings,\n",
    "    import_readings,\n",
    "    calculate_time_difference,\n",
    ")\n",
    "\n",
    "start_date = env_global(\"start_date\")\n",
    "end_date = env_global(\"end_date\")\n",
    "path_data = env_global(\"path_data\")\n",
    "path_readings = f\"{path_data}/readings\"\n",
    "devices = check_and_load_devices()"
   ]
  },
  {
   "cell_type": "markdown",
   "metadata": {},
   "source": [
    "## 1) Import"
   ]
  },
  {
   "cell_type": "code",
   "execution_count": 4,
   "metadata": {},
   "outputs": [
    {
     "name": "stderr",
     "output_type": "stream",
     "text": [
      "\u001b[32m2025-06-17 12:30:01.461\u001b[0m | \u001b[1mINFO    \u001b[0m | \u001b[36mreadings\u001b[0m:\u001b[36mimport_readings\u001b[0m:\u001b[36m71\u001b[0m - \u001b[1mImporting readings from folder: /Users/wspamer/Dev/python/projects/ccr-system/nvirosense/data/readings/raw\u001b[0m\n",
      "\u001b[32m2025-06-17 12:30:01.462\u001b[0m | \u001b[1mINFO    \u001b[0m | \u001b[36mfiles\u001b[0m:\u001b[36mfind_file\u001b[0m:\u001b[36m84\u001b[0m - \u001b[1mFound file: aquanet_temp_&_rh_2025-06-11.csv for device: aquanet_temp_&_rh\u001b[0m\n",
      "\u001b[32m2025-06-17 12:30:01.462\u001b[0m | \u001b[1mINFO    \u001b[0m | \u001b[36mreadings\u001b[0m:\u001b[36mimport_readings\u001b[0m:\u001b[36m75\u001b[0m - \u001b[1mImporting readings from file: aquanet_temp_&_rh_2025-06-11.csv\u001b[0m\n",
      "\u001b[32m2025-06-17 12:30:01.467\u001b[0m | \u001b[1mINFO    \u001b[0m | \u001b[36mreadings\u001b[0m:\u001b[36mimport_readings\u001b[0m:\u001b[36m85\u001b[0m - \u001b[1mReadings imported successfully from /Users/wspamer/Dev/python/projects/ccr-system/nvirosense/data/readings/raw/aquanet_temp_&_rh_2025-06-11.csv\u001b[0m\n"
     ]
    }
   ],
   "source": [
    "device_name = \"AquaNet Temp & RH\"\n",
    "device = [device for device in devices if device[\"device_name\"] == device_name][0]\n",
    "df = import_readings(\n",
    "    device_name=device[\"device_name\"].replace(\" \", \"_\").lower()\n",
    ")"
   ]
  },
  {
   "cell_type": "markdown",
   "metadata": {},
   "source": [
    "## 2) Common Interval\n"
   ]
  },
  {
   "cell_type": "code",
   "execution_count": 5,
   "metadata": {},
   "outputs": [],
   "source": [
    "df[\"time_diff\"] = calculate_time_difference(df[\"dt\"])\n",
    "df = df[df[\"time_diff\"] >= 5]  # Filter out readings with time difference < 5 minutes"
   ]
  },
  {
   "cell_type": "code",
   "execution_count": 6,
   "metadata": {},
   "outputs": [
    {
     "data": {
      "application/vnd.microsoft.datawrangler.viewer.v0+json": {
       "columns": [
        {
         "name": "time_diff",
         "rawType": "int64",
         "type": "integer"
        },
        {
         "name": "count",
         "rawType": "int64",
         "type": "integer"
        }
       ],
       "ref": "bcc9789e-8a1f-4d3c-b6fc-491ba6406d83",
       "rows": [
        [
         "10",
         "2341"
        ],
        [
         "9",
         "86"
        ],
        [
         "11",
         "84"
        ],
        [
         "390",
         "2"
        ],
        [
         "1210",
         "1"
        ]
       ],
       "shape": {
        "columns": 1,
        "rows": 5
       }
      },
      "text/plain": [
       "time_diff\n",
       "10      2341\n",
       "9         86\n",
       "11        84\n",
       "390        2\n",
       "1210       1\n",
       "Name: count, dtype: int64"
      ]
     },
     "execution_count": 6,
     "metadata": {},
     "output_type": "execute_result"
    }
   ],
   "source": [
    "s_diff = df[\"time_diff\"].value_counts().sort_values(ascending=False)\n",
    "s_diff.head()"
   ]
  },
  {
   "cell_type": "code",
   "execution_count": 7,
   "metadata": {},
   "outputs": [
    {
     "name": "stdout",
     "output_type": "stream",
     "text": [
      "Most common time interval: 10 minutes\n"
     ]
    }
   ],
   "source": [
    "interval_common = s_diff.index[0]\n",
    "print(f\"Most common time interval: {interval_common} minutes\")"
   ]
  },
  {
   "cell_type": "markdown",
   "metadata": {},
   "source": [
    "#### 2.2.1) Plot"
   ]
  },
  {
   "cell_type": "code",
   "execution_count": 8,
   "metadata": {},
   "outputs": [
    {
     "data": {
      "image/png": "[encoded data removed]",
      "text/plain": [
       "<Figure size 1200x400 with 1 Axes>"
      ]
     },
     "metadata": {},
     "output_type": "display_data"
    }
   ],
   "source": [
    "plt.figure(figsize=(12, 4))\n",
    "s_diff.plot(kind=\"bar\", alpha=0.7)\n",
    "plt.title(\"Time Difference Between Consecutive `dt` Values\")\n",
    "plt.xlabel(\"Time Difference (minutes)\")\n",
    "plt.ylabel(\"Frequency\")\n",
    "plt.grid(True)\n",
    "plt.show()"
   ]
  },
  {
   "cell_type": "markdown",
   "metadata": {},
   "source": [
    "ANS: 10 min"
   ]
  },
  {
   "cell_type": "markdown",
   "metadata": {},
   "source": [
    "## 3) Round to common interval"
   ]
  },
  {
   "cell_type": "code",
   "execution_count": 9,
   "metadata": {},
   "outputs": [],
   "source": [
    "df[\"dt_10\"] = df.apply(\n",
    "    lambda row: row[\"dt\"].floor(f\"{str(interval_common)} min\"), axis=1\n",
    ")\n",
    "\n",
    "df[\"dt_diff\"] = df.apply(\n",
    "    lambda row: (row[\"dt\"] - row[\"dt_10\"]).total_seconds() / 60, axis=1\n",
    ")"
   ]
  },
  {
   "cell_type": "markdown",
   "metadata": {},
   "source": [
    "## 4) Check for any issues"
   ]
  },
  {
   "cell_type": "code",
   "execution_count": 10,
   "metadata": {},
   "outputs": [
    {
     "data": {
      "application/vnd.microsoft.datawrangler.viewer.v0+json": {
       "columns": [
        {
         "name": "dt_diff",
         "rawType": "float64",
         "type": "float"
        },
        {
         "name": "count",
         "rawType": "int64",
         "type": "integer"
        }
       ],
       "ref": "30b22cc4-0fdc-4618-a485-d59bac47c169",
       "rows": [
        [
         "6.0",
         "996"
        ],
        [
         "0.0",
         "984"
        ],
        [
         "7.0",
         "536"
        ],
        [
         "5.0",
         "2"
        ]
       ],
       "shape": {
        "columns": 1,
        "rows": 4
       }
      },
      "text/plain": [
       "dt_diff\n",
       "6.0    996\n",
       "0.0    984\n",
       "7.0    536\n",
       "5.0      2\n",
       "Name: count, dtype: int64"
      ]
     },
     "execution_count": 10,
     "metadata": {},
     "output_type": "execute_result"
    }
   ],
   "source": [
    "s_diff = df[\"dt_diff\"].value_counts().sort_values(ascending=False)\n",
    "s_diff.head()"
   ]
  },
  {
   "cell_type": "markdown",
   "metadata": {},
   "source": [
    "## 5) Set new date as default"
   ]
  },
  {
   "cell_type": "code",
   "execution_count": 11,
   "metadata": {},
   "outputs": [],
   "source": [
    "df_final = df.copy(deep=True)\n",
    "df_final.reset_index(inplace=True, drop=True)\n",
    "df_final[\"datetime\"] = df_final[\"dt_10\"]\n",
    "df_final.drop(columns=[\"dt\" ,\"time_diff\", \"dt_10\", \"dt_diff\"], inplace=True)"
   ]
  },
  {
   "cell_type": "markdown",
   "metadata": {},
   "source": [
    "## 6) Export"
   ]
  },
  {
   "cell_type": "code",
   "execution_count": 12,
   "metadata": {},
   "outputs": [],
   "source": [
    "path_cleaned = os.path.join(path_readings, \"cleaned\")\n",
    "end_date = df_final[\"datetime\"].max().strftime(\"%Y-%m-%d %H:%M:%S\")\n",
    "export_readings(path_cleaned, df_final, device, end_date)"
   ]
  },
  {
   "cell_type": "markdown",
   "metadata": {},
   "source": []
  }
 ],
 "metadata": {
  "kernelspec": {
   "display_name": "nvirosense",
   "language": "python",
   "name": "python3"
  },
  "language_info": {
   "codemirror_mode": {
    "name": "ipython",
    "version": 3
   },
   "file_extension": ".py",
   "mimetype": "text/x-python",
   "name": "python",
   "nbconvert_exporter": "python",
   "pygments_lexer": "ipython3",
   "version": "3.12.10"
  }
 },
 "nbformat": 4,
 "nbformat_minor": 4
}
