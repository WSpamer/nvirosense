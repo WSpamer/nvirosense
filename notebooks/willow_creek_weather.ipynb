{
 "cells": [
  {
   "cell_type": "markdown",
   "metadata": {},
   "source": [
    "# Aquanet Light Sensor"
   ]
  },
  {
   "cell_type": "code",
   "execution_count": null,
   "metadata": {},
   "outputs": [],
   "source": [
    "import os\n",
    "from matplotlib import pyplot as plt\n",
    "\n",
    "from loguru import logger\n",
    "\n",
    "logger.enable(\"nviro_fetch\")"
   ]
  },
  {
   "cell_type": "markdown",
   "metadata": {},
   "source": [
    "## Setup"
   ]
  },
  {
   "cell_type": "code",
   "execution_count": null,
   "metadata": {},
   "outputs": [],
   "source": [
    "from src.devices import check_and_load_devices\n",
    "from src.env import env_global\n",
    "from src.readings import (\n",
    "    export_readings,\n",
    "    import_readings,\n",
    "    calculate_time_difference,\n",
    ")\n",
    "\n",
    "start_date = env_global(\"start_date\")\n",
    "end_date = env_global(\"end_date\")\n",
    "path_data = env_global(\"path_data\")\n",
    "path_readings = f\"{path_data}/readings\"\n",
    "devices = check_and_load_devices()"
   ]
  },
  {
   "cell_type": "markdown",
   "metadata": {},
   "source": [
    "## 1) Import"
   ]
  },
  {
   "cell_type": "code",
   "execution_count": null,
   "metadata": {},
   "outputs": [],
   "source": [
    "device_name = \"Aquanet Light Sensor\"\n",
    "device = [device for device in devices if device[\"device_name\"] == device_name][0]\n",
    "df = import_readings(\n",
    "    device_name=device[\"device_name\"].replace(\" \", \"_\").lower()\n",
    ")"
   ]
  },
  {
   "cell_type": "markdown",
   "metadata": {},
   "source": [
    "## 2) Common Interval\n",
    ""
   ]
  },
  {
   "cell_type": "code",
   "execution_count": null,
   "metadata": {},
   "outputs": [],
   "source": [
    "df[\"time_diff\"] = calculate_time_difference(df[\"dt\"])\n",
    "df = df[df[\"time_diff\"] >= 5]  # Filter out readings with time difference < 5 minutes"
   ]
  },
  {
   "cell_type": "code",
   "execution_count": null,
   "metadata": {},
   "outputs": [],
   "source": [
    "s_diff = df[\"time_diff\"].value_counts().sort_values(ascending=False)\n",
    "s_diff.head()"
   ]
  },
  {
   "cell_type": "code",
   "execution_count": null,
   "metadata": {},
   "outputs": [],
   "source": [
    "interval_common = s_diff.index[0]\n",
    "print(f\"Most common time interval: {interval_common} minutes\")"
   ]
  },
  {
   "cell_type": "markdown",
   "metadata": {},
   "source": [
    "#### 2.2.1) Plot"
   ]
  },
  {
   "cell_type": "code",
   "execution_count": null,
   "metadata": {},
   "outputs": [],
   "source": [
    "plt.figure(figsize=(12, 4))\n",
    "s_diff.plot(kind=\"bar\", alpha=0.7)\n",
    "plt.title(\"Time Difference Between Consecutive `dt` Values\")\n",
    "plt.xlabel(\"Time Difference (minutes)\")\n",
    "plt.ylabel(\"Frequency\")\n",
    "plt.grid(True)\n",
    "plt.show()"
   ]
  },
  {
   "cell_type": "markdown",
   "metadata": {},
   "source": [
    "ANS: 10 min"
   ]
  },
  {
   "cell_type": "markdown",
   "metadata": {},
   "source": [
    "## 3) Round to common interval"
   ]
  },
  {
   "cell_type": "code",
   "execution_count": null,
   "metadata": {},
   "outputs": [],
   "source": [
    "df[\"dt_10\"] = df.apply(\n",
    "    lambda row: row[\"dt\"].floor(f\"{str(interval_common)} min\"), axis=1\n",
    ")\n",
    "\n",
    "df[\"dt_diff\"] = df.apply(\n",
    "    lambda row: (row[\"dt\"] - row[\"dt_10\"]).total_seconds() / 60, axis=1\n",
    ")"
   ]
  },
  {
   "cell_type": "markdown",
   "metadata": {},
   "source": [
    "## 4) Check for any issues"
   ]
  },
  {
   "cell_type": "code",
   "execution_count": null,
   "metadata": {},
   "outputs": [],
   "source": [
    "s_diff = df[\"dt_diff\"].value_counts().sort_values(ascending=False)\n",
    "s_diff.head()"
   ]
  },
  {
   "cell_type": "markdown",
   "metadata": {},
   "source": [
    "## 5) Set new date as default"
   ]
  },
  {
   "cell_type": "code",
   "execution_count": null,
   "metadata": {},
   "outputs": [],
   "source": [
    "df_final = df.copy(deep=True)\n",
    "df_final.reset_index(inplace=True, drop=True)\n",
    "df_final[\"datetime\"] = df_final[\"dt_10\"]\n",
    "df_final.drop(columns=[\"dt\" ,\"time_diff\", \"dt_10\", \"dt_diff\"], inplace=True)"
   ]
  },
  {
   "cell_type": "markdown",
   "metadata": {},
   "source": [
    "## 6) Export"
   ]
  },
  {
   "cell_type": "code",
   "execution_count": null,
   "metadata": {},
   "outputs": [],
   "source": [
    "path_cleaned = os.path.join(path_readings, \"cleaned\")\n",
    "end_date = df_final[\"datetime\"].max().strftime(\"%Y-%m-%d %H:%M:%S\")\n",
    "export_readings(path_cleaned, df_final, device, end_date)"
   ]
  },
  {
   "cell_type": "markdown",
   "metadata": {},
   "source": []
  }
 ],
 "metadata": {
  "kernelspec": {
   "display_name": "Python 3",
   "language": "python",
   "name": "python3"
  },
  "language_info": {
   "codemirror_mode": {
    "name": "ipython",
    "version": 3
   },
   "file_extension": ".py",
   "mimetype": "text/x-python",
   "name": "python",
   "nbconvert_exporter": "python",
   "pygments_lexer": "ipython3",
   "version": "3.8.5"
  }
 },
 "nbformat": 4,
 "nbformat_minor": 4
}